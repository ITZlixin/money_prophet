{
 "cells": [
  {
   "cell_type": "code",
   "execution_count": 2,
   "metadata": {
    "collapsed": true
   },
   "outputs": [],
   "source": [
    "import pandas as pd\n",
    "import numpy as np\n",
    "from fbprophet import Prophet"
   ]
  },
  {
   "cell_type": "code",
   "execution_count": 3,
   "metadata": {
    "collapsed": false
   },
   "outputs": [
    {
     "data": {
      "text/html": [
       "<div>\n",
       "<table border=\"1\" class=\"dataframe\">\n",
       "  <thead>\n",
       "    <tr style=\"text-align: right;\">\n",
       "      <th></th>\n",
       "      <th>Date</th>\n",
       "      <th>Open</th>\n",
       "      <th>High</th>\n",
       "      <th>Low</th>\n",
       "      <th>Close</th>\n",
       "      <th>Volume</th>\n",
       "      <th>Adj Close</th>\n",
       "    </tr>\n",
       "  </thead>\n",
       "  <tbody>\n",
       "    <tr>\n",
       "      <th>0</th>\n",
       "      <td>2017-02-27</td>\n",
       "      <td>137.139999</td>\n",
       "      <td>137.440002</td>\n",
       "      <td>136.279999</td>\n",
       "      <td>136.929993</td>\n",
       "      <td>20196400</td>\n",
       "      <td>136.929993</td>\n",
       "    </tr>\n",
       "    <tr>\n",
       "      <th>1</th>\n",
       "      <td>2017-02-24</td>\n",
       "      <td>135.910004</td>\n",
       "      <td>136.660004</td>\n",
       "      <td>135.279999</td>\n",
       "      <td>136.660004</td>\n",
       "      <td>21690900</td>\n",
       "      <td>136.660004</td>\n",
       "    </tr>\n",
       "    <tr>\n",
       "      <th>2</th>\n",
       "      <td>2017-02-23</td>\n",
       "      <td>137.380005</td>\n",
       "      <td>137.479996</td>\n",
       "      <td>136.300003</td>\n",
       "      <td>136.529999</td>\n",
       "      <td>20704100</td>\n",
       "      <td>136.529999</td>\n",
       "    </tr>\n",
       "    <tr>\n",
       "      <th>3</th>\n",
       "      <td>2017-02-22</td>\n",
       "      <td>136.429993</td>\n",
       "      <td>137.119995</td>\n",
       "      <td>136.110001</td>\n",
       "      <td>137.110001</td>\n",
       "      <td>20745300</td>\n",
       "      <td>137.110001</td>\n",
       "    </tr>\n",
       "    <tr>\n",
       "      <th>4</th>\n",
       "      <td>2017-02-21</td>\n",
       "      <td>136.229996</td>\n",
       "      <td>136.750000</td>\n",
       "      <td>135.979996</td>\n",
       "      <td>136.699997</td>\n",
       "      <td>24265100</td>\n",
       "      <td>136.699997</td>\n",
       "    </tr>\n",
       "  </tbody>\n",
       "</table>\n",
       "</div>"
      ],
      "text/plain": [
       "         Date        Open        High         Low       Close    Volume  \\\n",
       "0  2017-02-27  137.139999  137.440002  136.279999  136.929993  20196400   \n",
       "1  2017-02-24  135.910004  136.660004  135.279999  136.660004  21690900   \n",
       "2  2017-02-23  137.380005  137.479996  136.300003  136.529999  20704100   \n",
       "3  2017-02-22  136.429993  137.119995  136.110001  137.110001  20745300   \n",
       "4  2017-02-21  136.229996  136.750000  135.979996  136.699997  24265100   \n",
       "\n",
       "    Adj Close  \n",
       "0  136.929993  \n",
       "1  136.660004  \n",
       "2  136.529999  \n",
       "3  137.110001  \n",
       "4  136.699997  "
      ]
     },
     "execution_count": 3,
     "metadata": {},
     "output_type": "execute_result"
    }
   ],
   "source": [
    "df = pd.read_csv('apple.csv')\n",
    "df.head()"
   ]
  },
  {
   "cell_type": "code",
   "execution_count": null,
   "metadata": {
    "collapsed": true
   },
   "outputs": [],
   "source": []
  }
 ],
 "metadata": {
  "kernelspec": {
   "display_name": "Python 3",
   "language": "python",
   "name": "python3"
  },
  "language_info": {
   "codemirror_mode": {
    "name": "ipython",
    "version": 3
   },
   "file_extension": ".py",
   "mimetype": "text/x-python",
   "name": "python",
   "nbconvert_exporter": "python",
   "pygments_lexer": "ipython3",
   "version": "3.5.1"
  }
 },
 "nbformat": 4,
 "nbformat_minor": 2
}
